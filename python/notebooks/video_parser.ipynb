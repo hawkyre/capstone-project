{
 "cells": [
  {
   "cell_type": "code",
   "execution_count": 1,
   "id": "31da62b7",
   "metadata": {},
   "outputs": [
    {
     "name": "stdout",
     "output_type": "stream",
     "text": [
      "Requirement already satisfied: deepgram-sdk in c:\\users\\hawky\\appdata\\local\\programs\\python\\python310\\lib\\site-packages (2.1.0)\n",
      "Requirement already satisfied: websockets in c:\\users\\hawky\\appdata\\local\\programs\\python\\python310\\lib\\site-packages (from deepgram-sdk) (10.4)\n",
      "Requirement already satisfied: aiohttp in c:\\users\\hawky\\appdata\\local\\programs\\python\\python310\\lib\\site-packages (from deepgram-sdk) (3.8.3)\n",
      "Requirement already satisfied: frozenlist>=1.1.1 in c:\\users\\hawky\\appdata\\local\\programs\\python\\python310\\lib\\site-packages (from aiohttp->deepgram-sdk) (1.3.3)\n",
      "Requirement already satisfied: aiosignal>=1.1.2 in c:\\users\\hawky\\appdata\\local\\programs\\python\\python310\\lib\\site-packages (from aiohttp->deepgram-sdk) (1.3.1)\n",
      "Requirement already satisfied: yarl<2.0,>=1.0 in c:\\users\\hawky\\appdata\\local\\programs\\python\\python310\\lib\\site-packages (from aiohttp->deepgram-sdk) (1.8.1)\n",
      "Requirement already satisfied: attrs>=17.3.0 in c:\\users\\hawky\\appdata\\local\\programs\\python\\python310\\lib\\site-packages (from aiohttp->deepgram-sdk) (22.1.0)\n",
      "Requirement already satisfied: multidict<7.0,>=4.5 in c:\\users\\hawky\\appdata\\local\\programs\\python\\python310\\lib\\site-packages (from aiohttp->deepgram-sdk) (6.0.2)\n",
      "Requirement already satisfied: async-timeout<5.0,>=4.0.0a3 in c:\\users\\hawky\\appdata\\local\\programs\\python\\python310\\lib\\site-packages (from aiohttp->deepgram-sdk) (4.0.2)\n",
      "Requirement already satisfied: charset-normalizer<3.0,>=2.0 in c:\\users\\hawky\\appdata\\local\\programs\\python\\python310\\lib\\site-packages (from aiohttp->deepgram-sdk) (2.1.1)\n",
      "Requirement already satisfied: idna>=2.0 in c:\\users\\hawky\\appdata\\local\\programs\\python\\python310\\lib\\site-packages (from yarl<2.0,>=1.0->aiohttp->deepgram-sdk) (3.3)\n",
      "Note: you may need to restart the kernel to use updated packages.\n"
     ]
    }
   ],
   "source": [
    "%pip install deepgram-sdk"
   ]
  },
  {
   "cell_type": "code",
   "execution_count": 2,
   "id": "9e77547c",
   "metadata": {},
   "outputs": [
    {
     "name": "stderr",
     "output_type": "stream",
     "text": [
      "c:\\Users\\hawky\\AppData\\Local\\Programs\\Python\\Python310\\lib\\site-packages\\tqdm\\auto.py:22: TqdmWarning: IProgress not found. Please update jupyter and ipywidgets. See https://ipywidgets.readthedocs.io/en/stable/user_install.html\n",
      "  from .autonotebook import tqdm as notebook_tqdm\n"
     ]
    }
   ],
   "source": [
    "import subprocess\n",
    "from deepgram import Deepgram\n",
    "import json\n",
    "import re\n",
    "import cv2\n",
    "import matplotlib.pyplot as plt\n",
    "import math\n",
    "from ImagesEmotionLucas.scripts.frames_processing import ImageToEmotion\n",
    "from plotter import Plotter\n",
    "from text_to_emotion import TextToEmotion"
   ]
  },
  {
   "cell_type": "code",
   "execution_count": 3,
   "id": "40987295",
   "metadata": {},
   "outputs": [],
   "source": [
    "# The API key we created in step 3\n",
    "DEEPGRAM_API_KEY = '4d7ae42383509c771f0de389b766ffbb2f794ca8'\n",
    "\n",
    "# Replace with your file path and audio mimetype\n",
    "MIMETYPE = 'audio/mp4'\n",
    "\n",
    "def video_to_text(video_path):\n",
    "    # Initializes the Deepgram SDK\n",
    "    dg_client = Deepgram(DEEPGRAM_API_KEY)\n",
    "    \n",
    "    with open(video_path, 'rb') as audio:\n",
    "        source = {'buffer': audio, 'mimetype': MIMETYPE}\n",
    "        options = { \"punctuate\": True, \"model\": \"general\", \"language\": \"en-US\", \"tier\": \"enhanced\", \"diarize\": True}\n",
    "    \n",
    "        print('Requesting transcript...')\n",
    "        print('Your file may take up to a couple minutes to process.')\n",
    "        print('While you wait, did you know that Deepgram accepts over 40 audio file formats? Even MP4s.')\n",
    "        print('To learn more about customizing your transcripts check out developers.deepgram.com')\n",
    "    \n",
    "        response = dg_client.transcription.sync_prerecorded(source, options)\n",
    "        # print(json.dumps(response, indent=4))\n",
    "        print('Transcript obtained.')\n",
    "        return response"
   ]
  },
  {
   "cell_type": "code",
   "execution_count": 4,
   "id": "d7befa7b",
   "metadata": {
    "collapsed": true
   },
   "outputs": [],
   "source": [
    "# video_to_text(r'C:\\Users\\hawky\\university\\IA\\final\\capstone-project\\sample_videos\\click_cut.mp4')"
   ]
  },
  {
   "cell_type": "code",
   "execution_count": 5,
   "id": "7178a011",
   "metadata": {},
   "outputs": [],
   "source": [
    "sentence_regex = re.compile(r'((?<=[.?!]\")|((?<=[.?!])(?!\")))\\s*')\n",
    "\n",
    "def separate_sentences(text):\n",
    "    sentences = [x for x in re.split(sentence_regex, text) if len(x) > 0]\n",
    "    return sentences"
   ]
  },
  {
   "cell_type": "code",
   "execution_count": 6,
   "id": "0a68f38e",
   "metadata": {},
   "outputs": [],
   "source": [
    "def timestamp_sentences(sentences, words):\n",
    "    word_index = 0\n",
    "    sentences_timed = []\n",
    "    for i in range(len(sentences)):\n",
    "        sent = sentences[i]\n",
    "        sentence_word_length = len(sent.split())\n",
    "        word_range = words[word_index : (word_index+sentence_word_length)]\n",
    "        time_start = word_range[0]['start']\n",
    "        time_end = word_range[-1]['end']\n",
    "        sentences_timed.append((sent, time_start, time_end))\n",
    "        word_index += sentence_word_length\n",
    "    \n",
    "    return sentences_timed"
   ]
  },
  {
   "cell_type": "code",
   "execution_count": 7,
   "id": "54325bbf",
   "metadata": {},
   "outputs": [],
   "source": [
    "def group_sentences(sentences, window_size=10):\n",
    "    padding_start = [('', sentences[0][1], sentences[0][1])] * (window_size-1)\n",
    "    padding_end = [('', sentences[-1][2], sentences[-1][2])] * (window_size-1)\n",
    "    sentences = padding_start + sentences + padding_end\n",
    "    longer_sentences = []\n",
    "\n",
    "    for i in range(len(sentences) - window_size + 1):\n",
    "        sent_group = sentences[i:i + window_size]\n",
    "        sentence = ' '.join([x[0] for x in sent_group])\n",
    "        sentence_start = sent_group[0][1]\n",
    "        sentence_end = sent_group[-1][2]\n",
    "        longer_sentences.append((sentence.strip(), sentence_start, sentence_end))\n",
    "\n",
    "    return longer_sentences"
   ]
  },
  {
   "cell_type": "code",
   "execution_count": 8,
   "id": "aa19de63",
   "metadata": {},
   "outputs": [],
   "source": [
    "def process_transcript(json):\n",
    "    transcript_data = json['results']['channels'][0]['alternatives'][0]\n",
    "    transcript = transcript_data['transcript']\n",
    "    words = transcript_data['words']\n",
    "    sentences = separate_sentences(transcript)\n",
    "    sentences = timestamp_sentences(sentences, words)\n",
    "    sentences = group_sentences(sentences)\n",
    "    return sentences"
   ]
  },
  {
   "cell_type": "code",
   "execution_count": 9,
   "id": "4987eb6b",
   "metadata": {},
   "outputs": [],
   "source": [
    "def extract_images_from_video(video_path, images_per_second = 0.8):\n",
    "    video = cv2.VideoCapture(video_path)\n",
    "\n",
    "    fps = video.get(cv2.CAP_PROP_FPS)\n",
    "    if fps < 0.1:\n",
    "        print(\"VIDEO NOT FOUND\")\n",
    "        return\n",
    "    \n",
    "    frames_to_skip = fps / images_per_second\n",
    "    images = []\n",
    "    stop = False\n",
    "    current_frame = 0.0\n",
    "    while not stop:\n",
    "        video.set(cv2.CAP_PROP_POS_FRAMES, math.floor(current_frame))\n",
    "        ret, img = video.read()\n",
    "        if ret:\n",
    "            timestamp = current_frame / fps\n",
    "            images.append((img, timestamp))\n",
    "            current_frame += frames_to_skip\n",
    "        else:\n",
    "            stop = True\n",
    "    \n",
    "    return images\n"
   ]
  },
  {
   "cell_type": "code",
   "execution_count": 10,
   "id": "883a156a",
   "metadata": {},
   "outputs": [],
   "source": [
    "# from plotter import Plotter\n",
    "# from text_to_emotion import TextToEmotion\n",
    "\n",
    "# tte = TextToEmotion()\n",
    "\n",
    "# sentences = process_transcript(json_doc)\n",
    "# text_emotion_scores = tte.sentence_group_to_stats(sentences)\n",
    "\n",
    "# Plotter.plot_data([], text_emotion_scores)"
   ]
  },
  {
   "cell_type": "code",
   "execution_count": 11,
   "id": "ff734235",
   "metadata": {},
   "outputs": [
    {
     "name": "stdout",
     "output_type": "stream",
     "text": [
      "Cuda:  False\n"
     ]
    }
   ],
   "source": [
    "ite = ImageToEmotion()\n",
    "\n",
    "def parse_images(images):\n",
    "    images_parsed = []\n",
    "    index = 0\n",
    "    for img, timestamp in images:\n",
    "        scores, max_label = ite.process_image(img)\n",
    "        images_parsed.append(\n",
    "                    {'x': timestamp, 'y': scores, 'image_index': index})\n",
    "        print(\"Parsed image {}\".format(index))\n",
    "        index += 1\n",
    "    \n",
    "    return images_parsed"
   ]
  },
  {
   "cell_type": "code",
   "execution_count": 12,
   "id": "f44a6fab",
   "metadata": {},
   "outputs": [],
   "source": [
    "f = open('sample_response.json')\n",
    "json_doc = json.load(f)\n",
    "\n",
    "def parse_video(video_path):\n",
    "    images = extract_images_from_video(video_path)\n",
    "    parsed_images = parse_images(images)\n",
    "    \n",
    "    tte = TextToEmotion()\n",
    "    # json_transcript = video_to_text(video_path)\n",
    "    json_transcript = json_doc\n",
    "    sentences = process_transcript(json_transcript)\n",
    "    text_emotion_scores = tte.sentence_group_to_stats(sentences)\n",
    "\n",
    "    Plotter.plot_data(parsed_images, text_emotion_scores)"
   ]
  },
  {
   "cell_type": "code",
   "execution_count": 13,
   "id": "8e19f3cf",
   "metadata": {},
   "outputs": [
    {
     "data": {
      "text/html": [
       "<pre style=\"white-space:pre;overflow-x:auto;line-height:normal;font-family:Menlo,'DejaVu Sans Mono',consolas,'Courier New',monospace\"><span style=\"color: #800000; text-decoration-color: #800000\">╭─────────────────────────────── </span><span style=\"color: #800000; text-decoration-color: #800000; font-weight: bold\">Traceback </span><span style=\"color: #bf7f7f; text-decoration-color: #bf7f7f; font-weight: bold\">(most recent call last)</span><span style=\"color: #800000; text-decoration-color: #800000\"> ────────────────────────────────╮</span>\n",
       "<span style=\"color: #800000; text-decoration-color: #800000\">│</span> <span style=\"color: #808000; text-decoration-color: #808000\">C:\\Users\\hawky\\AppData\\Local\\Temp\\ipykernel_157688\\148111001.py</span>:<span style=\"color: #0000ff; text-decoration-color: #0000ff\">2</span> in <span style=\"color: #00ff00; text-decoration-color: #00ff00\">&lt;module&gt;</span>                    <span style=\"color: #800000; text-decoration-color: #800000\">│</span>\n",
       "<span style=\"color: #800000; text-decoration-color: #800000\">│</span>                                                                                                  <span style=\"color: #800000; text-decoration-color: #800000\">│</span>\n",
       "<span style=\"color: #800000; text-decoration-color: #800000\">│</span> <span style=\"color: #800000; text-decoration-color: #800000; font-style: italic\">[Errno 2] No such file or directory: </span>                                                            <span style=\"color: #800000; text-decoration-color: #800000\">│</span>\n",
       "<span style=\"color: #800000; text-decoration-color: #800000\">│</span> <span style=\"color: #800000; text-decoration-color: #800000; font-style: italic\">'C:\\\\Users\\\\hawky\\\\AppData\\\\Local\\\\Temp\\\\ipykernel_157688\\\\148111001.py'</span>                         <span style=\"color: #800000; text-decoration-color: #800000\">│</span>\n",
       "<span style=\"color: #800000; text-decoration-color: #800000\">│</span>                                                                                                  <span style=\"color: #800000; text-decoration-color: #800000\">│</span>\n",
       "<span style=\"color: #800000; text-decoration-color: #800000\">│</span> <span style=\"color: #808000; text-decoration-color: #808000\">C:\\Users\\hawky\\AppData\\Local\\Temp\\ipykernel_157688\\3257133433.py</span>:<span style=\"color: #0000ff; text-decoration-color: #0000ff\">5</span> in <span style=\"color: #00ff00; text-decoration-color: #00ff00\">parse_video</span>                <span style=\"color: #800000; text-decoration-color: #800000\">│</span>\n",
       "<span style=\"color: #800000; text-decoration-color: #800000\">│</span>                                                                                                  <span style=\"color: #800000; text-decoration-color: #800000\">│</span>\n",
       "<span style=\"color: #800000; text-decoration-color: #800000\">│</span> <span style=\"color: #800000; text-decoration-color: #800000; font-style: italic\">[Errno 2] No such file or directory: </span>                                                            <span style=\"color: #800000; text-decoration-color: #800000\">│</span>\n",
       "<span style=\"color: #800000; text-decoration-color: #800000\">│</span> <span style=\"color: #800000; text-decoration-color: #800000; font-style: italic\">'C:\\\\Users\\\\hawky\\\\AppData\\\\Local\\\\Temp\\\\ipykernel_157688\\\\3257133433.py'</span>                        <span style=\"color: #800000; text-decoration-color: #800000\">│</span>\n",
       "<span style=\"color: #800000; text-decoration-color: #800000\">│</span>                                                                                                  <span style=\"color: #800000; text-decoration-color: #800000\">│</span>\n",
       "<span style=\"color: #800000; text-decoration-color: #800000\">│</span> <span style=\"color: #808000; text-decoration-color: #808000\">C:\\Users\\hawky\\AppData\\Local\\Temp\\ipykernel_157688\\1536219817.py</span>:<span style=\"color: #0000ff; text-decoration-color: #0000ff\">14</span> in <span style=\"color: #00ff00; text-decoration-color: #00ff00\">extract_images_from_video</span> <span style=\"color: #800000; text-decoration-color: #800000\">│</span>\n",
       "<span style=\"color: #800000; text-decoration-color: #800000\">│</span>                                                                                                  <span style=\"color: #800000; text-decoration-color: #800000\">│</span>\n",
       "<span style=\"color: #800000; text-decoration-color: #800000\">│</span> <span style=\"color: #800000; text-decoration-color: #800000; font-style: italic\">[Errno 2] No such file or directory: </span>                                                            <span style=\"color: #800000; text-decoration-color: #800000\">│</span>\n",
       "<span style=\"color: #800000; text-decoration-color: #800000\">│</span> <span style=\"color: #800000; text-decoration-color: #800000; font-style: italic\">'C:\\\\Users\\\\hawky\\\\AppData\\\\Local\\\\Temp\\\\ipykernel_157688\\\\1536219817.py'</span>                        <span style=\"color: #800000; text-decoration-color: #800000\">│</span>\n",
       "<span style=\"color: #800000; text-decoration-color: #800000\">╰──────────────────────────────────────────────────────────────────────────────────────────────────╯</span>\n",
       "<span style=\"color: #ff0000; text-decoration-color: #ff0000; font-weight: bold\">KeyboardInterrupt</span>\n",
       "</pre>\n"
      ],
      "text/plain": [
       "\u001b[31m╭─\u001b[0m\u001b[31m──────────────────────────────\u001b[0m\u001b[31m \u001b[0m\u001b[1;31mTraceback \u001b[0m\u001b[1;2;31m(most recent call last)\u001b[0m\u001b[31m \u001b[0m\u001b[31m───────────────────────────────\u001b[0m\u001b[31m─╮\u001b[0m\n",
       "\u001b[31m│\u001b[0m \u001b[33mC:\\Users\\hawky\\AppData\\Local\\Temp\\ipykernel_157688\\148111001.py\u001b[0m:\u001b[94m2\u001b[0m in \u001b[92m<module>\u001b[0m                    \u001b[31m│\u001b[0m\n",
       "\u001b[31m│\u001b[0m                                                                                                  \u001b[31m│\u001b[0m\n",
       "\u001b[31m│\u001b[0m \u001b[3;31m[Errno 2] No such file or directory: \u001b[0m                                                            \u001b[31m│\u001b[0m\n",
       "\u001b[31m│\u001b[0m \u001b[3;31m'C:\\\\Users\\\\hawky\\\\AppData\\\\Local\\\\Temp\\\\ipykernel_157688\\\\148111001.py'\u001b[0m                         \u001b[31m│\u001b[0m\n",
       "\u001b[31m│\u001b[0m                                                                                                  \u001b[31m│\u001b[0m\n",
       "\u001b[31m│\u001b[0m \u001b[33mC:\\Users\\hawky\\AppData\\Local\\Temp\\ipykernel_157688\\3257133433.py\u001b[0m:\u001b[94m5\u001b[0m in \u001b[92mparse_video\u001b[0m                \u001b[31m│\u001b[0m\n",
       "\u001b[31m│\u001b[0m                                                                                                  \u001b[31m│\u001b[0m\n",
       "\u001b[31m│\u001b[0m \u001b[3;31m[Errno 2] No such file or directory: \u001b[0m                                                            \u001b[31m│\u001b[0m\n",
       "\u001b[31m│\u001b[0m \u001b[3;31m'C:\\\\Users\\\\hawky\\\\AppData\\\\Local\\\\Temp\\\\ipykernel_157688\\\\3257133433.py'\u001b[0m                        \u001b[31m│\u001b[0m\n",
       "\u001b[31m│\u001b[0m                                                                                                  \u001b[31m│\u001b[0m\n",
       "\u001b[31m│\u001b[0m \u001b[33mC:\\Users\\hawky\\AppData\\Local\\Temp\\ipykernel_157688\\1536219817.py\u001b[0m:\u001b[94m14\u001b[0m in \u001b[92mextract_images_from_video\u001b[0m \u001b[31m│\u001b[0m\n",
       "\u001b[31m│\u001b[0m                                                                                                  \u001b[31m│\u001b[0m\n",
       "\u001b[31m│\u001b[0m \u001b[3;31m[Errno 2] No such file or directory: \u001b[0m                                                            \u001b[31m│\u001b[0m\n",
       "\u001b[31m│\u001b[0m \u001b[3;31m'C:\\\\Users\\\\hawky\\\\AppData\\\\Local\\\\Temp\\\\ipykernel_157688\\\\1536219817.py'\u001b[0m                        \u001b[31m│\u001b[0m\n",
       "\u001b[31m╰──────────────────────────────────────────────────────────────────────────────────────────────────╯\u001b[0m\n",
       "\u001b[1;91mKeyboardInterrupt\u001b[0m\n"
      ]
     },
     "metadata": {},
     "output_type": "display_data"
    }
   ],
   "source": [
    "vid_path = r'C:\\Users\\hawky\\university\\IA\\final\\capstone-project\\sample_videos\\smash_drama.mp4'\n",
    "parse_video(vid_path)"
   ]
  },
  {
   "cell_type": "code",
   "execution_count": null,
   "id": "9d7fb805",
   "metadata": {},
   "outputs": [],
   "source": []
  },
  {
   "cell_type": "code",
   "execution_count": null,
   "id": "3173bfb0",
   "metadata": {},
   "outputs": [],
   "source": []
  },
  {
   "cell_type": "code",
   "execution_count": null,
   "id": "b996527f",
   "metadata": {},
   "outputs": [],
   "source": []
  },
  {
   "cell_type": "code",
   "execution_count": null,
   "id": "781778d9",
   "metadata": {},
   "outputs": [],
   "source": []
  },
  {
   "cell_type": "code",
   "execution_count": null,
   "id": "48f6db87",
   "metadata": {},
   "outputs": [],
   "source": []
  },
  {
   "cell_type": "code",
   "execution_count": null,
   "id": "086a7b6f",
   "metadata": {},
   "outputs": [],
   "source": []
  },
  {
   "cell_type": "code",
   "execution_count": null,
   "id": "14a7393a",
   "metadata": {},
   "outputs": [],
   "source": []
  }
 ],
 "metadata": {
  "kernelspec": {
   "display_name": "Python 3.10.0 64-bit",
   "language": "python",
   "name": "python3"
  },
  "language_info": {
   "codemirror_mode": {
    "name": "ipython",
    "version": 3
   },
   "file_extension": ".py",
   "mimetype": "text/x-python",
   "name": "python",
   "nbconvert_exporter": "python",
   "pygments_lexer": "ipython3",
   "version": "3.10.0 (tags/v3.10.0:b494f59, Oct  4 2021, 19:00:18) [MSC v.1929 64 bit (AMD64)]"
  },
  "vscode": {
   "interpreter": {
    "hash": "38aeb5d2c9cda807f795d9978a6093cc9be471233610cf6939db788845adaf22"
   }
  }
 },
 "nbformat": 4,
 "nbformat_minor": 5
}
