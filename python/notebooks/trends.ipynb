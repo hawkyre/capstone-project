{
 "cells": [
  {
   "cell_type": "code",
   "execution_count": 10,
   "metadata": {},
   "outputs": [],
   "source": [
    "import numpy as np\n",
    "import matplotlib.pyplot as plt"
   ]
  },
  {
   "cell_type": "code",
   "execution_count": 163,
   "metadata": {},
   "outputs": [],
   "source": [
    "points = np.array([2, 3, 6, 8, 10, 12, 6, 0, -6, -5, -4, -3, -3.5, -4.1, -3.8, -3.3, -3.6])"
   ]
  },
  {
   "cell_type": "code",
   "execution_count": 164,
   "metadata": {},
   "outputs": [],
   "source": [
    "points += np.random.uniform(size=len(points))"
   ]
  },
  {
   "cell_type": "code",
   "execution_count": 165,
   "metadata": {},
   "outputs": [
    {
     "data": {
      "text/plain": [
       "[<matplotlib.lines.Line2D at 0x214c7532d90>]"
      ]
     },
     "execution_count": 165,
     "metadata": {},
     "output_type": "execute_result"
    },
    {
     "data": {
      "image/png": "[encoded data removed]",
      "text/plain": [
       "<Figure size 432x288 with 1 Axes>"
      ]
     },
     "metadata": {
      "needs_background": "light"
     },
     "output_type": "display_data"
    }
   ],
   "source": [
    "\n",
    "plt.plot(points)"
   ]
  },
  {
   "cell_type": "code",
   "execution_count": 63,
   "metadata": {},
   "outputs": [],
   "source": [
    "points_dif = points[1:] - points[:-1]"
   ]
  },
  {
   "cell_type": "code",
   "execution_count": 64,
   "metadata": {},
   "outputs": [
    {
     "data": {
      "text/plain": [
       "array([ 1.07592715,  2.54809631,  2.38945829,  2.20167539,  1.87509172,\n",
       "       -6.0980516 , -5.70736973, -5.89056858,  0.89524159,  0.28624114,\n",
       "        1.10335129,  0.15265054, -1.38399841,  0.48591005,  0.97174952,\n",
       "       -1.00308459])"
      ]
     },
     "execution_count": 64,
     "metadata": {},
     "output_type": "execute_result"
    }
   ],
   "source": [
    "points_dif"
   ]
  },
  {
   "cell_type": "code",
   "execution_count": 118,
   "metadata": {},
   "outputs": [],
   "source": [
    "all_best = {}\n",
    "\n",
    "for i in range(len(points_dif)):\n",
    "    # cp = points_dif[i]\n",
    "    best = (np.Inf, 0, -1, -1)\n",
    "    for j in range(i+2, len(points_dif)):\n",
    "        # next_p = points_dif[j]\n",
    "        point_range = points_dif[i:(j+1)]\n",
    "        mean = np.mean(point_range)\n",
    "        std = np.std(point_range)\n",
    "        # corr = np.corrcoef(point_range)\n",
    "        if std < best[0]:\n",
    "            best = (std, mean, i, j, std/((j-i+1) ** 1))\n",
    "    # print('best in {}: ({}, {}) avg: {} / std: {}'.format(i, i, best[3], best[1], best[0]))\n",
    "    if best[0] != np.Inf:\n",
    "        if not all_best.get(best[3]):\n",
    "            all_best.setdefault(best[3], [best])\n",
    "        else:\n",
    "            all_best[best[3]].append(best)"
   ]
  },
  {
   "cell_type": "code",
   "execution_count": 119,
   "metadata": {},
   "outputs": [
    {
     "name": "stdout",
     "output_type": "stream",
     "text": [
      "Interval at (2, 5) with a slope of 2.155408467396986 and a score of 0.07084083003903408\n",
      "Interval at (1, 4) with a slope of 2.3797433291381753 and a score of 0.04719749571849539\n",
      "Interval at (3, 16) with a slope of -0.9316278207704927 and a score of 0.2214750307429749\n",
      "Interval at (5, 8) with a slope of -5.89866330184815 and a score of 0.05319929390183515\n",
      "Interval at (8, 11) with a slope of 0.7616113393712598 and a score of 0.11556945317511419\n",
      "Interval at (9, 12) with a slope of 0.5140809901056972 and a score of 0.1400770227930932\n",
      "Interval at (10, 15) with a slope of 0.2659325968563424 and a score of 0.1785036208632347\n",
      "Interval at (11, 14) with a slope of -0.24847927464545347 and a score of 0.2714594655096043\n"
     ]
    }
   ],
   "source": [
    "candidates = []\n",
    "\n",
    "for end in all_best:\n",
    "    points = all_best[end]\n",
    "    interval = sorted(points, key=lambda x: x[-1])[0]\n",
    "    print(\"Interval at ({}, {}) with a slope of {} and a score of {}\".format(interval[2], interval[3]+1, interval[1], interval[-1]))\n",
    "    candidates.append({'slope': interval[1], 'interval': (interval[2], interval[3]+1), 'metric': interval[-1]})\n",
    "\n",
    "candidates = np.array(sorted(candidates, key=lambda x: x['interval'][0]))"
   ]
  },
  {
   "cell_type": "code",
   "execution_count": 120,
   "metadata": {},
   "outputs": [
    {
     "name": "stdout",
     "output_type": "stream",
     "text": [
      "(1,4), (2,5)\n",
      "(1,4), (3,16)\n",
      "(1,4), (5,8)\n",
      "(1,4), (8,11)\n",
      "(1,4), (9,12)\n",
      "(1,4), (10,15)\n",
      "(1,4), (11,14)\n",
      "(2,5), (3,16)\n",
      "(2,5), (5,8)\n",
      "(2,5), (8,11)\n",
      "(2,5), (9,12)\n",
      "(2,5), (10,15)\n",
      "(2,5), (11,14)\n",
      "(3,16), (5,8)\n",
      "(3,16), (8,11)\n",
      "(3,16), (9,12)\n",
      "(3,16), (10,15)\n",
      "(3,16), (11,14)\n",
      "(5,8), (8,11)\n",
      "(5,8), (9,12)\n",
      "(5,8), (10,15)\n",
      "(5,8), (11,14)\n",
      "(8,11), (9,12)\n",
      "(8,11), (10,15)\n",
      "(8,11), (11,14)\n",
      "(9,12), (10,15)\n",
      "(9,12), (11,14)\n",
      "(10,15), (11,14)\n"
     ]
    }
   ],
   "source": [
    "candidates_removed = np.full(candidates.size, False)\n",
    "\n",
    "# Detecting candidates inside each other\n",
    "sz = len(candidates)\n",
    "for i in range(sz):\n",
    "    if candidates_removed[i] == True:\n",
    "        continue\n",
    "    \n",
    "    ci = candidates[i]\n",
    "    i0, i1 = ci['interval']\n",
    "    for j in range(i+1, sz):\n",
    "        cj = candidates[j]\n",
    "        j0, j1 = cj['interval']\n",
    "        print(\"({},{}), ({},{})\".format(i0, i1, j0, j1))\n",
    "        if i0 <= j0 and i1 >= j1 and ci['metric'] < cj['metric']:\n",
    "            candidates_removed[j] = True\n",
    "\n",
    "candidates = candidates[candidates_removed == False]"
   ]
  },
  {
   "cell_type": "code",
   "execution_count": 121,
   "metadata": {},
   "outputs": [
    {
     "data": {
      "text/plain": [
       "array([{'slope': 2.3797433291381753, 'interval': (1, 4), 'metric': 0.04719749571849539},\n",
       "       {'slope': 2.155408467396986, 'interval': (2, 5), 'metric': 0.07084083003903408},\n",
       "       {'slope': -0.9316278207704927, 'interval': (3, 16), 'metric': 0.2214750307429749},\n",
       "       {'slope': -5.89866330184815, 'interval': (5, 8), 'metric': 0.05319929390183515},\n",
       "       {'slope': 0.7616113393712598, 'interval': (8, 11), 'metric': 0.11556945317511419},\n",
       "       {'slope': 0.5140809901056972, 'interval': (9, 12), 'metric': 0.1400770227930932},\n",
       "       {'slope': 0.2659325968563424, 'interval': (10, 15), 'metric': 0.1785036208632347}],\n",
       "      dtype=object)"
      ]
     },
     "execution_count": 121,
     "metadata": {},
     "output_type": "execute_result"
    }
   ],
   "source": [
    "candidates"
   ]
  },
  {
   "cell_type": "code",
   "execution_count": 150,
   "metadata": {},
   "outputs": [],
   "source": [
    "final_intervals = []\n",
    "candidates_merged = np.full(candidates.size, False)\n",
    "\n",
    "# Detecting overlapping candidates\n",
    "sz = len(candidates)\n",
    "for i in range(sz):\n",
    "    if candidates_merged[i]:\n",
    "        continue\n",
    "\n",
    "    candidates_merged[i] = True\n",
    "    overlap_found = False\n",
    "    overlap_interval = candidates[i]\n",
    "\n",
    "    for j in range(i+1, sz):\n",
    "        ci = candidates[j-1]\n",
    "        i0, i1 = ci['interval']\n",
    "        cj = candidates[j]\n",
    "        j0, j1 = cj['interval']\n",
    "        overlap = i1 - j0\n",
    "        if overlap > 0:\n",
    "            overlap_percent = np.mean([overlap/(i1-i0), overlap/(j1-j0)])\n",
    "            slope_ratio = max(ci['slope'], cj['slope']) / min(ci['slope'], cj['slope'])\n",
    "            std_ratio = max(ci['metric'], cj['metric']) / min(ci['metric'], cj['metric'])\n",
    "            if overlap_percent > 0.5 and slope_ratio < 1.5 and std_ratio < 2:\n",
    "                candidates_merged[j] = True\n",
    "                cf = overlap_interval\n",
    "                f0, f1 = cf['interval']\n",
    "                new_slope = (cf['slope'] * (f1-f0) + cj['slope'] * (j1-j0)) / (f1-f0 + j1-j0)\n",
    "                new_score = (cf['metric'] * (f1-f0) + cj['metric'] * (j1-j0)) / (f1-f0 + j1-j0)\n",
    "                itv = {'slope': new_slope, 'interval': (f0, j1), 'metric': new_score}\n",
    "                overlap_interval = itv\n",
    "            else:\n",
    "                if j == i+1 and cj['metric'] < ci['metric']:\n",
    "                    candidates_merged[j] = True\n",
    "                    overlap_interval = cj\n",
    "        else:\n",
    "            break\n",
    "    \n",
    "    final_intervals.append(overlap_interval)\n"
   ]
  },
  {
   "cell_type": "code",
   "execution_count": 151,
   "metadata": {},
   "outputs": [
    {
     "data": {
      "text/plain": [
       "[{'slope': 2.2675758982675807,\n",
       "  'interval': (1, 5),\n",
       "  'metric': 0.059019162878764735},\n",
       " {'slope': -5.89866330184815,\n",
       "  'interval': (5, 8),\n",
       "  'metric': 0.05319929390183515},\n",
       " {'slope': 0.6378461647384784,\n",
       "  'interval': (8, 12),\n",
       "  'metric': 0.1278232379841037},\n",
       " {'slope': 0.2659325968563424,\n",
       "  'interval': (10, 15),\n",
       "  'metric': 0.1785036208632347}]"
      ]
     },
     "execution_count": 151,
     "metadata": {},
     "output_type": "execute_result"
    }
   ],
   "source": [
    "final_intervals"
   ]
  },
  {
   "cell_type": "code",
   "execution_count": 159,
   "metadata": {},
   "outputs": [],
   "source": [
    "def detect_significant_trends(points, x_scale):\n",
    "    points = np.array(points)\n",
    "    points_dif = points[1:] - points[:-1]\n",
    "    all_best = {}\n",
    "\n",
    "    for i in range(len(points_dif)):\n",
    "        # cp = points_dif[i]\n",
    "        best = (np.Inf, 0, -1, -1)\n",
    "        for j in range(i+2, len(points_dif)):\n",
    "            # next_p = points_dif[j]\n",
    "            point_range = points_dif[i:(j+1)]\n",
    "            mean = np.mean(point_range)\n",
    "            std = np.std(point_range)\n",
    "            # corr = np.corrcoef(point_range)\n",
    "            if std < best[0]:\n",
    "                best = (std, mean, i, j, std/((j-i+1) ** 1))\n",
    "        # print('best in {}: ({}, {}) avg: {} / std: {}'.format(i, i, best[3], best[1], best[0]))\n",
    "        if best[0] != np.Inf:\n",
    "            if not all_best.get(best[3]):\n",
    "                all_best.setdefault(best[3], [best])\n",
    "            else:\n",
    "                all_best[best[3]].append(best)\n",
    "                \n",
    "    candidates = []\n",
    "\n",
    "    for end in all_best:\n",
    "        points = all_best[end]\n",
    "        interval = sorted(points, key=lambda x: x[-1])[0]\n",
    "        print(\"Interval at ({}, {}) with a slope of {} and a score of {}\".format(interval[2], interval[3]+1, interval[1], interval[-1]))\n",
    "        candidates.append({'slope': interval[1], 'interval': (interval[2], interval[3]+1), 'metric': interval[-1]})\n",
    "\n",
    "    candidates = np.array(sorted(candidates, key=lambda x: x['interval'][0]))\n",
    "    print('cand', candidates)\n",
    "\n",
    "    candidates_removed = np.full(candidates.size, False)\n",
    "\n",
    "    # Detecting candidates inside each other\n",
    "    sz = len(candidates)\n",
    "    for i in range(sz):\n",
    "        if candidates_removed[i] == True:\n",
    "            continue\n",
    "        \n",
    "        ci = candidates[i]\n",
    "        i0, i1 = ci['interval']\n",
    "        for j in range(i+1, sz):\n",
    "            cj = candidates[j]\n",
    "            j0, j1 = cj['interval']\n",
    "            print(\"({},{}), ({},{})\".format(i0, i1, j0, j1))\n",
    "            if i0 <= j0 and i1 >= j1 and ci['metric'] < cj['metric']:\n",
    "                candidates_removed[j] = True\n",
    "\n",
    "    candidates = candidates[candidates_removed == False]\n",
    "\n",
    "    final_intervals = []\n",
    "    candidates_merged = np.full(candidates.size, False)\n",
    "\n",
    "    # Detecting overlapping candidates\n",
    "    sz = len(candidates)\n",
    "    for i in range(sz):\n",
    "        if candidates_merged[i]:\n",
    "            continue\n",
    "\n",
    "        candidates_merged[i] = True\n",
    "        overlap_found = False\n",
    "        overlap_interval = candidates[i]\n",
    "\n",
    "        for j in range(i+1, sz):\n",
    "            ci = candidates[j-1]\n",
    "            i0, i1 = ci['interval']\n",
    "            cj = candidates[j]\n",
    "            j0, j1 = cj['interval']\n",
    "            overlap = i1 - j0\n",
    "            if overlap > 0:\n",
    "                overlap_percent = np.mean([overlap/(i1-i0), overlap/(j1-j0)])\n",
    "                slope_ratio = max(ci['slope'], cj['slope']) / min(ci['slope'], cj['slope'])\n",
    "                std_ratio = max(ci['metric'], cj['metric']) / min(ci['metric'], cj['metric'])\n",
    "                if overlap_percent > 0.5 and slope_ratio < 1.5 and std_ratio < 2:\n",
    "                    candidates_merged[j] = True\n",
    "                    cf = overlap_interval\n",
    "                    f0, f1 = cf['interval']\n",
    "                    new_slope = (cf['slope'] * (f1-f0) + cj['slope'] * (j1-j0)) / (f1-f0 + j1-j0)\n",
    "                    new_score = (cf['metric'] * (f1-f0) + cj['metric'] * (j1-j0)) / (f1-f0 + j1-j0)\n",
    "                    itv = {'slope': new_slope, 'interval': (f0, j1), 'metric': new_score}\n",
    "                    overlap_interval = itv\n",
    "                else:\n",
    "                    if j == i+1 and cj['metric'] < ci['metric']:\n",
    "                        candidates_merged[j] = True\n",
    "                        overlap_interval = cj\n",
    "            else:\n",
    "                break\n",
    "        \n",
    "        overlap_interval['interval'] *= x_scale\n",
    "        final_intervals.append(overlap_interval)\n",
    "    \n",
    "    return final_intervals\n"
   ]
  },
  {
   "cell_type": "code",
   "execution_count": 166,
   "metadata": {},
   "outputs": [
    {
     "name": "stdout",
     "output_type": "stream",
     "text": [
      "Interval at (2, 5) with a slope of 1.8444415023791498 and a score of 0.03934341726943799\n",
      "Interval at (13, 16) with a slope of 0.021277121946403337 and a score of 0.14563781877710993\n",
      "Interval at (5, 8) with a slope of -6.04991284067349 and a score of 0.061091932272408465\n",
      "Interval at (8, 11) with a slope of 1.118621550301244 and a score of 0.0827147139011785\n",
      "Interval at (12, 15) with a slope of 0.2803624186239209 and a score of 0.023697335755615754\n",
      "cand [{'slope': 1.8444415023791498, 'interval': (2, 5), 'metric': 0.03934341726943799}\n",
      " {'slope': -6.04991284067349, 'interval': (5, 8), 'metric': 0.061091932272408465}\n",
      " {'slope': 1.118621550301244, 'interval': (8, 11), 'metric': 0.0827147139011785}\n",
      " {'slope': 0.2803624186239209, 'interval': (12, 15), 'metric': 0.023697335755615754}\n",
      " {'slope': 0.021277121946403337, 'interval': (13, 16), 'metric': 0.14563781877710993}]\n",
      "(2,5), (5,8)\n",
      "(2,5), (8,11)\n",
      "(2,5), (12,15)\n",
      "(2,5), (13,16)\n",
      "(5,8), (8,11)\n",
      "(5,8), (12,15)\n",
      "(5,8), (13,16)\n",
      "(8,11), (12,15)\n",
      "(8,11), (13,16)\n",
      "(12,15), (13,16)\n"
     ]
    },
    {
     "data": {
      "text/plain": [
       "[{'slope': 1.8444415023791498,\n",
       "  'interval': (2, 5),\n",
       "  'metric': 0.03934341726943799},\n",
       " {'slope': -6.04991284067349,\n",
       "  'interval': (5, 8),\n",
       "  'metric': 0.061091932272408465},\n",
       " {'slope': 1.118621550301244,\n",
       "  'interval': (8, 11),\n",
       "  'metric': 0.0827147139011785},\n",
       " {'slope': 0.2803624186239209,\n",
       "  'interval': (12, 15),\n",
       "  'metric': 0.023697335755615754},\n",
       " {'slope': 0.021277121946403337,\n",
       "  'interval': (13, 16),\n",
       "  'metric': 0.14563781877710993}]"
      ]
     },
     "execution_count": 166,
     "metadata": {},
     "output_type": "execute_result"
    }
   ],
   "source": [
    "detect_significant_trends(points, 1)"
   ]
  },
  {
   "cell_type": "code",
   "execution_count": null,
   "metadata": {},
   "outputs": [],
   "source": []
  }
 ],
 "metadata": {
  "kernelspec": {
   "display_name": "base",
   "language": "python",
   "name": "python3"
  },
  "language_info": {
   "codemirror_mode": {
    "name": "ipython",
    "version": 3
   },
   "file_extension": ".py",
   "mimetype": "text/x-python",
   "name": "python",
   "nbconvert_exporter": "python",
   "pygments_lexer": "ipython3",
   "version": "3.9.12"
  },
  "orig_nbformat": 4,
  "vscode": {
   "interpreter": {
    "hash": "5f183e4cb8d58a5b9f43adb2e81d7c0991cbb1caf723ea99f3788b3874e8c5b4"
   }
  }
 },
 "nbformat": 4,
 "nbformat_minor": 2
}
