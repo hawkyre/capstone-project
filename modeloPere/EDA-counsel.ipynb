{
 "cells": [
  {
   "cell_type": "code",
   "execution_count": 784,
   "id": "633c4816",
   "metadata": {},
   "outputs": [],
   "source": [
    "import numpy as np\n",
    "import pandas as pd\n",
    "import math\n",
    "import matplotlib.pyplot as plt"
   ]
  },
  {
   "cell_type": "code",
   "execution_count": 785,
   "id": "bf267ac3",
   "metadata": {},
   "outputs": [
    {
     "data": {
      "text/plain": [
       "'\\ndf = pd.read_csv(\"data/20200325_counsel_chat.csv\", encoding=\\'utf-8\\')\\ndf.drop(columns=[\"Unnamed: 0\", \\'questionID\\', \"questionTitle\",\"questionText\", \\'questionLink\\',\"therapistInfo\", \"therapistURL\", \"views\", \"upvotes\"], inplace=True)\\ndf.columns = [\"topic\", \"answer\", \"split\"]\\ndf.head()\\n'"
      ]
     },
     "execution_count": 785,
     "metadata": {},
     "output_type": "execute_result"
    }
   ],
   "source": [
    "\"\"\"\n",
    "df = pd.read_csv(\"data/20200325_counsel_chat.csv\", encoding='utf-8')\n",
    "df.drop(columns=[\"Unnamed: 0\", 'questionID', \"questionTitle\",\"questionText\", 'questionLink',\"therapistInfo\", \"therapistURL\", \"views\", \"upvotes\"], inplace=True)\n",
    "df.columns = [\"topic\", \"answer\", \"split\"]\n",
    "df.head()\n",
    "\"\"\""
   ]
  },
  {
   "cell_type": "markdown",
   "id": "121cc82a",
   "metadata": {},
   "source": [
    "Guardamos el csv para trabajar sobre este"
   ]
  },
  {
   "cell_type": "code",
   "execution_count": 786,
   "id": "f0718c16",
   "metadata": {},
   "outputs": [],
   "source": [
    "#df.to_csv('data/counsel-chat.csv')"
   ]
  },
  {
   "cell_type": "markdown",
   "id": "f98011f7",
   "metadata": {},
   "source": [
    "A partir de este csv"
   ]
  },
  {
   "cell_type": "code",
   "execution_count": 787,
   "id": "71cd6c91",
   "metadata": {},
   "outputs": [
    {
     "data": {
      "text/html": [
       "<div>\n",
       "<style scoped>\n",
       "    .dataframe tbody tr th:only-of-type {\n",
       "        vertical-align: middle;\n",
       "    }\n",
       "\n",
       "    .dataframe tbody tr th {\n",
       "        vertical-align: top;\n",
       "    }\n",
       "\n",
       "    .dataframe thead th {\n",
       "        text-align: right;\n",
       "    }\n",
       "</style>\n",
       "<table border=\"1\" class=\"dataframe\">\n",
       "  <thead>\n",
       "    <tr style=\"text-align: right;\">\n",
       "      <th></th>\n",
       "      <th>topic</th>\n",
       "      <th>answer</th>\n",
       "      <th>split</th>\n",
       "    </tr>\n",
       "  </thead>\n",
       "  <tbody>\n",
       "    <tr>\n",
       "      <th>0</th>\n",
       "      <td>depression</td>\n",
       "      <td>If everyone thinks you're worthless, then mayb...</td>\n",
       "      <td>train</td>\n",
       "    </tr>\n",
       "    <tr>\n",
       "      <th>1</th>\n",
       "      <td>depression</td>\n",
       "      <td>Hello, and thank you for your question and see...</td>\n",
       "      <td>train</td>\n",
       "    </tr>\n",
       "    <tr>\n",
       "      <th>2</th>\n",
       "      <td>depression</td>\n",
       "      <td>First thing I'd suggest is getting the sleep y...</td>\n",
       "      <td>train</td>\n",
       "    </tr>\n",
       "    <tr>\n",
       "      <th>3</th>\n",
       "      <td>depression</td>\n",
       "      <td>Therapy is essential for those that are feelin...</td>\n",
       "      <td>train</td>\n",
       "    </tr>\n",
       "    <tr>\n",
       "      <th>4</th>\n",
       "      <td>depression</td>\n",
       "      <td>I first want to let you know that you are not ...</td>\n",
       "      <td>train</td>\n",
       "    </tr>\n",
       "  </tbody>\n",
       "</table>\n",
       "</div>"
      ],
      "text/plain": [
       "        topic                                             answer  split\n",
       "0  depression  If everyone thinks you're worthless, then mayb...  train\n",
       "1  depression  Hello, and thank you for your question and see...  train\n",
       "2  depression  First thing I'd suggest is getting the sleep y...  train\n",
       "3  depression  Therapy is essential for those that are feelin...  train\n",
       "4  depression  I first want to let you know that you are not ...  train"
      ]
     },
     "execution_count": 787,
     "metadata": {},
     "output_type": "execute_result"
    }
   ],
   "source": [
    "df = pd.read_csv(\"data/counsel-chat.csv\", encoding='utf-8')\n",
    "df.drop(columns=\"Unnamed: 0\", inplace=True)\n",
    "df.head()"
   ]
  },
  {
   "cell_type": "markdown",
   "id": "dafb10d6",
   "metadata": {},
   "source": [
    "### Estudio topics más importantes"
   ]
  },
  {
   "cell_type": "markdown",
   "id": "d024f690",
   "metadata": {},
   "source": [
    "##### Listado de topics ordenados por número de respuestas"
   ]
  },
  {
   "cell_type": "code",
   "execution_count": 788,
   "id": "fe96ca4a",
   "metadata": {},
   "outputs": [
    {
     "data": {
      "text/plain": [
       "topic\n",
       "depression                  330\n",
       "anxiety                     249\n",
       "counseling-fundamentals     240\n",
       "intimacy                    205\n",
       "relationships               174\n",
       "parenting                   145\n",
       "family-conflict             116\n",
       "self-esteem                  83\n",
       "relationship-dissolution     76\n",
       "trauma                       66\n",
       "behavioral-change            51\n",
       "marriage                     46\n",
       "anger-management             38\n",
       "lgbtq                        38\n",
       "substance-abuse              35\n",
       "spirituality                 34\n",
       "professional-ethics          32\n",
       "workplace-relationships      26\n",
       "diagnosis                    22\n",
       "domestic-violence            21\n",
       "social-relationships         20\n",
       "grief-and-loss               18\n",
       "self-harm                    11\n",
       "eating-disorders             10\n",
       "sleep-improvement            10\n",
       "legal-regulatory              8\n",
       "stress                        7\n",
       "children-adolescents          6\n",
       "addiction                     5\n",
       "human-sexuality               4\n",
       "military-issues               3\n",
       "dtype: int64"
      ]
     },
     "execution_count": 788,
     "metadata": {},
     "output_type": "execute_result"
    }
   ],
   "source": [
    "listado_topics = df.groupby([\"topic\"]).size()\n",
    "listado_topics.sort_values(ascending = False, inplace=True)\n",
    "listado_topics"
   ]
  },
  {
   "cell_type": "code",
   "execution_count": 789,
   "id": "8c70fc67",
   "metadata": {},
   "outputs": [
    {
     "data": {
      "image/png": "[encoded data removed]",
      "text/plain": [
       "<Figure size 1440x720 with 1 Axes>"
      ]
     },
     "metadata": {
      "needs_background": "light"
     },
     "output_type": "display_data"
    }
   ],
   "source": [
    "#Plot\n",
    "fig, ax = plt.subplots(figsize=(20, 10))\n",
    "listado_topics.plot.bar(ax=ax)\n",
    "ax.set_title(\"Number of Responses by Topic\", fontsize=30)\n",
    "ax.set_xlabel(\"Topic\", fontsize=25)\n",
    "ax.set_ylabel(\"Number of Responses\", fontsize=25)\n",
    "ax.set_xticklabels(ax.get_xticklabels(), fontsize=17)\n",
    "plt.tight_layout()"
   ]
  },
  {
   "cell_type": "markdown",
   "id": "72cf3253",
   "metadata": {},
   "source": [
    "### Simplificación del dataset eliminando y siplificando topics"
   ]
  },
  {
   "cell_type": "markdown",
   "id": "2a9b911e",
   "metadata": {},
   "source": [
    "##### Eliminación de los topics con menos respuestas o menos importantes"
   ]
  },
  {
   "cell_type": "markdown",
   "id": "e73580ea",
   "metadata": {},
   "source": [
    "Localizamos los topics y los añadimos a un array"
   ]
  },
  {
   "cell_type": "code",
   "execution_count": 790,
   "id": "8e02a8b4",
   "metadata": {},
   "outputs": [],
   "source": [
    "innecesary_topics = [\"military-issues\",\"human-sexuality\",\"children-adolescents\",\n",
    "                     \"legal-regulatory\",\"sleep-improvement\",\"eating-disorders\",\n",
    "                     \"grief-and-loss\",\"social-relationships\",\"diagnosis\",\n",
    "                     \"workplace-relationships\",\"professional-ethics\",\"professional-ethics\",\n",
    "                     \"lgbtq\"]\n",
    "#df.loc[(df['topic'] == innecesary_topics[3])].index"
   ]
  },
  {
   "cell_type": "markdown",
   "id": "bd3b816f",
   "metadata": {},
   "source": [
    "Eliminamos los topics"
   ]
  },
  {
   "cell_type": "code",
   "execution_count": 791,
   "id": "6cf8c6d8",
   "metadata": {},
   "outputs": [],
   "source": [
    "count = 0\n",
    "for i in innecesary_topics:\n",
    "    df.drop(df.loc[(df['topic'] == innecesary_topics[count])].index, inplace = True)\n",
    "    #df.loc[(df['topic'] == innecesary_topics[])]\n",
    "    count=count + 1"
   ]
  },
  {
   "cell_type": "markdown",
   "id": "945cf586",
   "metadata": {},
   "source": [
    "##### Unión de topics"
   ]
  },
  {
   "cell_type": "markdown",
   "id": "a556b42b",
   "metadata": {},
   "source": [
    "Substance abuse --> addiction"
   ]
  },
  {
   "cell_type": "code",
   "execution_count": 792,
   "id": "839bbe73",
   "metadata": {},
   "outputs": [],
   "source": [
    "df.loc[df['topic'] == 'substance-abuse', 'topic'] = 'addiction'"
   ]
  },
  {
   "cell_type": "code",
   "execution_count": 793,
   "id": "a007fee6",
   "metadata": {},
   "outputs": [
    {
     "data": {
      "text/plain": [
       "topic\n",
       "depression                  330\n",
       "anxiety                     249\n",
       "counseling-fundamentals     240\n",
       "intimacy                    205\n",
       "relationships               174\n",
       "parenting                   145\n",
       "family-conflict             116\n",
       "self-esteem                  83\n",
       "relationship-dissolution     76\n",
       "trauma                       66\n",
       "behavioral-change            51\n",
       "marriage                     46\n",
       "addiction                    40\n",
       "anger-management             38\n",
       "spirituality                 34\n",
       "domestic-violence            21\n",
       "self-harm                    11\n",
       "stress                        7\n",
       "dtype: int64"
      ]
     },
     "execution_count": 793,
     "metadata": {},
     "output_type": "execute_result"
    }
   ],
   "source": [
    "listado_topics = df.groupby([\"topic\"]).size()\n",
    "listado_topics.sort_values(ascending = False, inplace=True)\n",
    "listado_topics"
   ]
  },
  {
   "cell_type": "markdown",
   "id": "c3784760",
   "metadata": {},
   "source": [
    "##### Aumentando el dataset"
   ]
  },
  {
   "cell_type": "markdown",
   "id": "50c07501",
   "metadata": {},
   "source": [
    "Para ello vamos a añadir respuestas a topics con pocas respuestas"
   ]
  },
  {
   "cell_type": "code",
   "execution_count": 794,
   "id": "218bc0ee",
   "metadata": {},
   "outputs": [],
   "source": [
    "topics_incompletos = [\"addiction\", \"stress\", \"self-harm\", \"domestic-violence\"]"
   ]
  },
  {
   "cell_type": "code",
   "execution_count": 795,
   "id": "5a8f6bd2",
   "metadata": {},
   "outputs": [],
   "source": [
    "#Resetear dataset para evitar duplicador\n",
    "#Hacer cada vez que se ejecute el siguiente bloque, eliminar cuando se termine para que se cambien los topics eliminados y unidos\n",
    "#df = pd.read_csv(\"data/counsel-chat.csv\", encoding='utf-8')"
   ]
  },
  {
   "cell_type": "markdown",
   "id": "b1b4a789",
   "metadata": {},
   "source": [
    "1.- Una vez creado el txt de cada topic a aumentar vamos a leerlo y guardar las frases en un array\n",
    "\n",
    "2.- Leemos el array mientras añadimos las erespuestas en el csv"
   ]
  },
  {
   "cell_type": "code",
   "execution_count": 796,
   "id": "e9c61184",
   "metadata": {},
   "outputs": [],
   "source": [
    "for i in topics_incompletos:\n",
    "    #1.-\n",
    "    respuestas=[]\n",
    "    with open(\"data/\"+i+\".txt\") as archivo:\n",
    "        respuestas = archivo.readlines()\n",
    "    #2.-\n",
    "    #Estructura del dataframe:\n",
    "    #question, topic, answer, split\n",
    "    for answer in respuestas:\n",
    "        topic_list = {'topic' : i, 'answer' : answer, \"split\" : \"train\"}\n",
    "        df = df.append(topic_list, ignore_index=True)"
   ]
  },
  {
   "cell_type": "code",
   "execution_count": 797,
   "id": "dc7c4df3",
   "metadata": {},
   "outputs": [
    {
     "data": {
      "text/plain": [
       "topic\n",
       "depression                  330\n",
       "anxiety                     249\n",
       "counseling-fundamentals     240\n",
       "intimacy                    205\n",
       "relationships               174\n",
       "parenting                   145\n",
       "family-conflict             116\n",
       "self-esteem                  83\n",
       "relationship-dissolution     76\n",
       "trauma                       66\n",
       "behavioral-change            51\n",
       "addiction                    49\n",
       "marriage                     46\n",
       "domestic-violence            39\n",
       "anger-management             38\n",
       "spirituality                 34\n",
       "self-harm                    26\n",
       "stress                       26\n",
       "dtype: int64"
      ]
     },
     "execution_count": 797,
     "metadata": {},
     "output_type": "execute_result"
    }
   ],
   "source": [
    "listado_topics = df.groupby([\"topic\"]).size()\n",
    "listado_topics.sort_values(ascending = False, inplace=True)\n",
    "listado_topics\n"
   ]
  },
  {
   "cell_type": "code",
   "execution_count": 798,
   "id": "aacf88b9",
   "metadata": {},
   "outputs": [],
   "source": [
    "df.to_csv('data/model-counsel-chat.csv')"
   ]
  },
  {
   "cell_type": "markdown",
   "id": "38da04c8",
   "metadata": {},
   "source": [
    "##### Separando los conjuntos de train, test y validation"
   ]
  },
  {
   "cell_type": "code",
   "execution_count": 803,
   "id": "1923f6d2",
   "metadata": {},
   "outputs": [],
   "source": [
    "conjunto_test = df.loc[(df['split'] == \"test\")]\n",
    "conjunto_train = df.loc[(df['split'] == \"train\")]\n",
    "conjunto_val = df.loc[(df['split'] == \"val\")]"
   ]
  },
  {
   "cell_type": "code",
   "execution_count": null,
   "id": "a044dd52",
   "metadata": {},
   "outputs": [],
   "source": []
  }
 ],
 "metadata": {
  "kernelspec": {
   "display_name": "Python 3",
   "language": "python",
   "name": "python3"
  },
  "language_info": {
   "codemirror_mode": {
    "name": "ipython",
    "version": 3
   },
   "file_extension": ".py",
   "mimetype": "text/x-python",
   "name": "python",
   "nbconvert_exporter": "python",
   "pygments_lexer": "ipython3",
   "version": "3.8.8"
  }
 },
 "nbformat": 4,
 "nbformat_minor": 5
}
