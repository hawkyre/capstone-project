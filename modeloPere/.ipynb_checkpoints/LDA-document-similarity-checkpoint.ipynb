{
 "cells": [
  {
   "cell_type": "code",
   "execution_count": 1,
   "id": "b5ce74ea",
   "metadata": {},
   "outputs": [],
   "source": [
    "# import dependencies\n",
    "%matplotlib inline\n",
    "import pandas as pd\n",
    "import numpy as np\n",
    "import nltk\n",
    "from nltk.corpus import stopwords\n",
    "import gensim\n",
    "from gensim.models import LdaModel\n",
    "from gensim import models, corpora, similarities\n",
    "import re\n",
    "from nltk.stem.porter import PorterStemmer\n",
    "from nltk.stem import WordNetLemmatizer\n",
    "import time\n",
    "from nltk import FreqDist\n",
    "from scipy.stats import entropy\n",
    "import matplotlib.pyplot as plt\n",
    "import seaborn as sns\n",
    "import fasttext\n",
    "sns.set_style(\"darkgrid\")"
   ]
  },
  {
   "cell_type": "code",
   "execution_count": 51,
   "id": "1df255e4",
   "metadata": {},
   "outputs": [
    {
     "data": {
      "text/html": [
       "<div>\n",
       "<style scoped>\n",
       "    .dataframe tbody tr th:only-of-type {\n",
       "        vertical-align: middle;\n",
       "    }\n",
       "\n",
       "    .dataframe tbody tr th {\n",
       "        vertical-align: top;\n",
       "    }\n",
       "\n",
       "    .dataframe thead th {\n",
       "        text-align: right;\n",
       "    }\n",
       "</style>\n",
       "<table border=\"1\" class=\"dataframe\">\n",
       "  <thead>\n",
       "    <tr style=\"text-align: right;\">\n",
       "      <th></th>\n",
       "      <th>Unnamed: 0</th>\n",
       "      <th>topic</th>\n",
       "      <th>answer</th>\n",
       "      <th>split</th>\n",
       "    </tr>\n",
       "  </thead>\n",
       "  <tbody>\n",
       "    <tr>\n",
       "      <th>0</th>\n",
       "      <td>1771</td>\n",
       "      <td>counseling-fundamentals</td>\n",
       "      <td>Let me start by saying there are never too man...</td>\n",
       "      <td>train</td>\n",
       "    </tr>\n",
       "    <tr>\n",
       "      <th>1</th>\n",
       "      <td>919</td>\n",
       "      <td>trauma</td>\n",
       "      <td>Have you explained to your prospective partner...</td>\n",
       "      <td>train</td>\n",
       "    </tr>\n",
       "    <tr>\n",
       "      <th>2</th>\n",
       "      <td>655</td>\n",
       "      <td>parenting</td>\n",
       "      <td>This is a common response parents can have.  T...</td>\n",
       "      <td>train</td>\n",
       "    </tr>\n",
       "    <tr>\n",
       "      <th>3</th>\n",
       "      <td>1224</td>\n",
       "      <td>intimacy</td>\n",
       "      <td>Hi Portland,This must feel like your world is ...</td>\n",
       "      <td>val</td>\n",
       "    </tr>\n",
       "    <tr>\n",
       "      <th>4</th>\n",
       "      <td>1960</td>\n",
       "      <td>self-harm</td>\n",
       "      <td>I like to take pictures of my sh and save them...</td>\n",
       "      <td>train</td>\n",
       "    </tr>\n",
       "  </tbody>\n",
       "</table>\n",
       "</div>"
      ],
      "text/plain": [
       "   Unnamed: 0                    topic  \\\n",
       "0        1771  counseling-fundamentals   \n",
       "1         919                   trauma   \n",
       "2         655                parenting   \n",
       "3        1224                 intimacy   \n",
       "4        1960                self-harm   \n",
       "\n",
       "                                              answer  split  \n",
       "0  Let me start by saying there are never too man...  train  \n",
       "1  Have you explained to your prospective partner...  train  \n",
       "2  This is a common response parents can have.  T...  train  \n",
       "3  Hi Portland,This must feel like your world is ...    val  \n",
       "4  I like to take pictures of my sh and save them...  train  "
      ]
     },
     "execution_count": 51,
     "metadata": {},
     "output_type": "execute_result"
    }
   ],
   "source": [
    "df = pd.read_csv(\"data/model-counsel-chat-eng.csv\", encoding='UTF8')\n",
    "# shuffle the data\n",
    "df = df.sample(frac=1.0)\n",
    "df.reset_index(drop=True,inplace=True)\n",
    "df.head()"
   ]
  },
  {
   "cell_type": "code",
   "execution_count": 53,
   "id": "238d67b4",
   "metadata": {},
   "outputs": [],
   "source": [
    "def initial_clean(text):\n",
    "    \"\"\"\n",
    "    Function to clean text of websites, email addresess and any punctuation\n",
    "    We also lower case the text\n",
    "    \"\"\"\n",
    "    text = re.sub(\"((\\S+)?(http(s)?)(\\S+))|((\\S+)?(www)(\\S+))|((\\S+)?(\\@)(\\S+)?)\", \" \", text)\n",
    "    #text = re.sub(r'\\-', ' ', text)\n",
    "    text = re.sub(\"[^a-zA-Z ]\", \"\", text)\n",
    "    text = text.lower() # lower case the text\n",
    "    if predict_lang(text) == \"en\":\n",
    "        text = nltk.word_tokenize(text)\n",
    "        return text\n",
    "    else:\n",
    "        return []\n",
    "\n",
    "stop_words = stopwords.words('english')\n",
    "def remove_stop_words(text):\n",
    "    \"\"\"\n",
    "    Function that removes all stopwords from text\n",
    "    \"\"\"\n",
    "    return [word for word in text if word not in stop_words]\n",
    "\n",
    "stemmer = PorterStemmer()\n",
    "lmtz = WordNetLemmatizer()\n",
    "def stem_words(text):\n",
    "    \"\"\"\n",
    "    Function to stem words, so plural and singular are treated the same\n",
    "    \"\"\"\n",
    "    try:\n",
    "        text = [lmtz.lemmatize(word) for word in text]\n",
    "        text = [word for word in text if len(word) > 1] # make sure we have no 1 letter words\n",
    "    except IndexError: # the word \"oed\" broke this, so needed try except\n",
    "        pass\n",
    "    return text\n",
    "\n",
    "def apply_all(text):\n",
    "    \"\"\"\n",
    "    This function applies all the functions above into one\n",
    "    \"\"\"\n",
    "    res = stem_words(remove_stop_words(initial_clean(text)))\n",
    "    return list(filter(lambda x: len(x) > 0, res))"
   ]
  },
  {
   "cell_type": "code",
   "execution_count": 52,
   "id": "9e963364",
   "metadata": {},
   "outputs": [
    {
     "name": "stderr",
     "output_type": "stream",
     "text": [
      "Warning : `load_model` does not return WordVectorModel or SupervisedModel any more, but a `FastText` object which is very similar.\n"
     ]
    }
   ],
   "source": [
    "textmodel = fasttext.load_model('lid.176.bin')\n",
    "\n",
    "def predict_lang(sentence):\n",
    "    return textmodel.predict([sentence])[0][0][-1][-2:]"
   ]
  },
  {
   "cell_type": "code",
   "execution_count": 54,
   "id": "cf2e1ba8",
   "metadata": {},
   "outputs": [
    {
     "name": "stdout",
     "output_type": "stream",
     "text": [
      "Time to clean and tokenize 1993 articles: 0.49907906850179035 min\n",
      "<class 'pandas.core.series.Series'>\n"
     ]
    }
   ],
   "source": [
    "# clean text and title and create new column \"tokenized\"\n",
    "t1 = time.time()\n",
    "df['tokenized'] = df['answer'].apply(apply_all)\n",
    "t2 = time.time()\n",
    "print(\"Time to clean and tokenize\", len(df), \"articles:\", (t2-t1)/60, \"min\")\n",
    "print(type(df['tokenized']))"
   ]
  },
  {
   "cell_type": "code",
   "execution_count": 55,
   "id": "fb61db11",
   "metadata": {},
   "outputs": [
    {
     "data": {
      "text/plain": [
       "12810"
      ]
     },
     "execution_count": 55,
     "metadata": {},
     "output_type": "execute_result"
    }
   ],
   "source": [
    "# first get a list of all words\n",
    "all_words = [word for item in list(df['tokenized']) for word in item]\n",
    "# use nltk fdist to get a frequency distribution of all words\n",
    "fdist = FreqDist(all_words)\n",
    "len(fdist) # number of unique words"
   ]
  },
  {
   "cell_type": "code",
   "execution_count": 98,
   "id": "9540a702",
   "metadata": {},
   "outputs": [
    {
     "data": {
      "text/plain": [
       "[('wondering', 23),\n",
       " ('google', 23),\n",
       " ('missing', 23),\n",
       " ('law', 23),\n",
       " ('description', 23),\n",
       " ('judged', 23),\n",
       " ('greater', 23),\n",
       " ('lpc', 23),\n",
       " ('facing', 23),\n",
       " ('qualified', 23)]"
      ]
     },
     "execution_count": 98,
     "metadata": {},
     "output_type": "execute_result"
    }
   ],
   "source": [
    "# choose k and visually inspect the bottom 10 words of the top k\n",
    "k = 1000\n",
    "top_k_words = fdist.most_common(k)\n",
    "top_k_words[-10:]"
   ]
  },
  {
   "cell_type": "code",
   "execution_count": 99,
   "id": "2a8b534c",
   "metadata": {},
   "outputs": [],
   "source": [
    "# define a function only to keep words in the top k words\n",
    "top_k_words,_ = zip(*fdist.most_common(k))\n",
    "top_k_words = set(top_k_words)\n",
    "def keep_top_k_words(text):\n",
    "    return [word for word in text if word in top_k_words]"
   ]
  },
  {
   "cell_type": "code",
   "execution_count": 100,
   "id": "83a04aa8",
   "metadata": {},
   "outputs": [],
   "source": [
    "df['tokenized'] = df['tokenized'].apply(keep_top_k_words)"
   ]
  },
  {
   "cell_type": "code",
   "execution_count": 101,
   "id": "d9d8c178",
   "metadata": {},
   "outputs": [
    {
     "name": "stdout",
     "output_type": "stream",
     "text": [
      "length of list: 1286 \n",
      "average document length 75.9696734059098 \n",
      "minimum document length 31 \n",
      "maximum document length 348\n"
     ]
    }
   ],
   "source": [
    "# document length\n",
    "df['doc_len'] = df['tokenized'].apply(lambda x: len(x))\n",
    "doc_lengths = list(df['doc_len'])\n",
    "df.drop(labels='doc_len', axis=1, inplace=True)\n",
    "\n",
    "print(\"length of list:\",len(doc_lengths),\n",
    "      \"\\naverage document length\", np.average(doc_lengths),\n",
    "      \"\\nminimum document length\", min(doc_lengths),\n",
    "      \"\\nmaximum document length\", max(doc_lengths))"
   ]
  },
  {
   "cell_type": "code",
   "execution_count": 102,
   "id": "92e1c01b",
   "metadata": {},
   "outputs": [
    {
     "data": {
      "image/png": "[encoded data removed]",
      "text/plain": [
       "<Figure size 864x432 with 1 Axes>"
      ]
     },
     "metadata": {},
     "output_type": "display_data"
    }
   ],
   "source": [
    "# plot a histogram of document length\n",
    "num_bins = 1000\n",
    "fig, ax = plt.subplots(figsize=(12,6));\n",
    "# the histogram of the data\n",
    "n, bins, patches = ax.hist(doc_lengths, num_bins)\n",
    "ax.set_xlabel('Document Length (tokens)', fontsize=15)\n",
    "ax.set_ylabel('Normed Frequency', fontsize=15)\n",
    "ax.grid()\n",
    "ax.set_xticks(np.logspace(start=np.log10(50),stop=np.log10(400),num=8, base=10.0))\n",
    "plt.xlim(0,400)\n",
    "ax.plot([np.average(doc_lengths) for i in np.linspace(0.0,0.0035,100)], np.linspace(0.0,0.0035,100), '-',\n",
    "        label='average doc length')\n",
    "ax.legend()\n",
    "ax.grid()\n",
    "fig.tight_layout()\n",
    "plt.show()"
   ]
  },
  {
   "cell_type": "code",
   "execution_count": 103,
   "id": "cedb60e5",
   "metadata": {},
   "outputs": [
    {
     "name": "stdout",
     "output_type": "stream",
     "text": [
      "After cleaning and excluding short aticles, the dataframe now has: 1231 articles\n"
     ]
    }
   ],
   "source": [
    "# only keep articles with more than 30 tokens, otherwise too short\n",
    "df = df[df['tokenized'].map(len) >= 40]\n",
    "# make sure all tokenized items are lists\n",
    "df = df[df['tokenized'].map(type) == list]\n",
    "df.reset_index(drop=True,inplace=True)\n",
    "print(\"After cleaning and excluding short aticles, the dataframe now has:\", len(df), \"articles\")"
   ]
  },
  {
   "cell_type": "code",
   "execution_count": 104,
   "id": "b4a230a4",
   "metadata": {},
   "outputs": [
    {
     "data": {
      "text/html": [
       "<div>\n",
       "<style scoped>\n",
       "    .dataframe tbody tr th:only-of-type {\n",
       "        vertical-align: middle;\n",
       "    }\n",
       "\n",
       "    .dataframe tbody tr th {\n",
       "        vertical-align: top;\n",
       "    }\n",
       "\n",
       "    .dataframe thead th {\n",
       "        text-align: right;\n",
       "    }\n",
       "</style>\n",
       "<table border=\"1\" class=\"dataframe\">\n",
       "  <thead>\n",
       "    <tr style=\"text-align: right;\">\n",
       "      <th></th>\n",
       "      <th>Unnamed: 0</th>\n",
       "      <th>topic</th>\n",
       "      <th>answer</th>\n",
       "      <th>split</th>\n",
       "      <th>tokenized</th>\n",
       "    </tr>\n",
       "  </thead>\n",
       "  <tbody>\n",
       "    <tr>\n",
       "      <th>0</th>\n",
       "      <td>1771</td>\n",
       "      <td>counseling-fundamentals</td>\n",
       "      <td>Let me start by saying there are never too man...</td>\n",
       "      <td>train</td>\n",
       "      <td>[let, start, saying, never, many, concern, bri...</td>\n",
       "    </tr>\n",
       "    <tr>\n",
       "      <th>1</th>\n",
       "      <td>919</td>\n",
       "      <td>trauma</td>\n",
       "      <td>Have you explained to your prospective partner...</td>\n",
       "      <td>train</td>\n",
       "      <td>[partner, feeling, youve, one, truth, trusted,...</td>\n",
       "    </tr>\n",
       "    <tr>\n",
       "      <th>2</th>\n",
       "      <td>655</td>\n",
       "      <td>parenting</td>\n",
       "      <td>This is a common response parents can have.  T...</td>\n",
       "      <td>train</td>\n",
       "      <td>[common, response, parent, many, reason, impor...</td>\n",
       "    </tr>\n",
       "    <tr>\n",
       "      <th>3</th>\n",
       "      <td>1224</td>\n",
       "      <td>intimacy</td>\n",
       "      <td>Hi Portland,This must feel like your world is ...</td>\n",
       "      <td>val</td>\n",
       "      <td>[hi, must, feel, like, world, wife, new, frien...</td>\n",
       "    </tr>\n",
       "    <tr>\n",
       "      <th>4</th>\n",
       "      <td>1629</td>\n",
       "      <td>behavioral-change</td>\n",
       "      <td>Teenagers are prone to mood swings due to deve...</td>\n",
       "      <td>train</td>\n",
       "      <td>[mood, due, change, body, mind, happens, many,...</td>\n",
       "    </tr>\n",
       "  </tbody>\n",
       "</table>\n",
       "</div>"
      ],
      "text/plain": [
       "   Unnamed: 0                    topic  \\\n",
       "0        1771  counseling-fundamentals   \n",
       "1         919                   trauma   \n",
       "2         655                parenting   \n",
       "3        1224                 intimacy   \n",
       "4        1629        behavioral-change   \n",
       "\n",
       "                                              answer  split  \\\n",
       "0  Let me start by saying there are never too man...  train   \n",
       "1  Have you explained to your prospective partner...  train   \n",
       "2  This is a common response parents can have.  T...  train   \n",
       "3  Hi Portland,This must feel like your world is ...    val   \n",
       "4  Teenagers are prone to mood swings due to deve...  train   \n",
       "\n",
       "                                           tokenized  \n",
       "0  [let, start, saying, never, many, concern, bri...  \n",
       "1  [partner, feeling, youve, one, truth, trusted,...  \n",
       "2  [common, response, parent, many, reason, impor...  \n",
       "3  [hi, must, feel, like, world, wife, new, frien...  \n",
       "4  [mood, due, change, body, mind, happens, many,...  "
      ]
     },
     "execution_count": 104,
     "metadata": {},
     "output_type": "execute_result"
    }
   ],
   "source": [
    "df.head()"
   ]
  },
  {
   "cell_type": "code",
   "execution_count": 105,
   "id": "93831112",
   "metadata": {},
   "outputs": [],
   "source": [
    "train_df = df[df['split'] == \"train\"]\n",
    "test_df = df[df['split'] == \"test\"]\n",
    "val_df = df[df['split'] == \"val\"]"
   ]
  },
  {
   "cell_type": "code",
   "execution_count": 106,
   "id": "1fdcc5e4",
   "metadata": {},
   "outputs": [
    {
     "name": "stdout",
     "output_type": "stream",
     "text": [
      "1231 1047 76 108\n"
     ]
    }
   ],
   "source": [
    "print(len(df),len(train_df),len(test_df), len(val_df))"
   ]
  },
  {
   "cell_type": "code",
   "execution_count": 107,
   "id": "57751214",
   "metadata": {},
   "outputs": [],
   "source": [
    "def train_lda(data):\n",
    "    \"\"\"\n",
    "    This function trains the lda model\n",
    "    We setup parameters like number of topics, the chunksize to use in Hoffman method\n",
    "    We also do 2 passes of the data since this is a small dataset, so we want the distributions to stabilize\n",
    "    \"\"\"\n",
    "    num_topics = 60\n",
    "    chunksize = 90\n",
    "    dictionary = corpora.Dictionary(data['tokenized'])\n",
    "    corpus = [dictionary.doc2bow(doc) for doc in data['tokenized']]\n",
    "    t1 = time.time()\n",
    "    # low alpha means each document is only represented by a small number of topics, and vice versa\n",
    "    # low eta means each topic is only represented by a small number of words, and vice versa\n",
    "    lda = LdaModel(corpus=corpus, num_topics=num_topics, id2word=dictionary,\n",
    "                   alpha=1e-2, eta=0.5e-2, chunksize=chunksize, minimum_probability=0.0, passes=2)\n",
    "    t2 = time.time()\n",
    "    print(\"Time to train LDA model on \", len(df), \"articles: \", (t2-t1)/60, \"min\")\n",
    "    return dictionary,corpus,lda"
   ]
  },
  {
   "cell_type": "code",
   "execution_count": 108,
   "id": "276be0fb",
   "metadata": {},
   "outputs": [
    {
     "name": "stdout",
     "output_type": "stream",
     "text": [
      "Time to train LDA model on  1231 articles:  0.03676498333613078 min\n"
     ]
    }
   ],
   "source": [
    "dictionary,corpus,lda = train_lda(df)"
   ]
  },
  {
   "cell_type": "code",
   "execution_count": 109,
   "id": "5bea31f2",
   "metadata": {},
   "outputs": [
    {
     "name": "stdout",
     "output_type": "stream",
     "text": [
      "60\n"
     ]
    }
   ],
   "source": [
    "topics = lda.show_topics(num_topics= -1, num_words=10, formatted=False)\n",
    "sorted_topics = sorted(topics, key=lambda x: x[0])\n",
    "#topic_prob = list(zip(topics, pred))\n",
    "print(len(sorted_topics))"
   ]
  },
  {
   "cell_type": "code",
   "execution_count": 110,
   "id": "85e2c0f4",
   "metadata": {},
   "outputs": [],
   "source": [
    "dictionary.save('ttk_models/text_to_keywords.dictionary')"
   ]
  },
  {
   "cell_type": "code",
   "execution_count": 111,
   "id": "fa94f76d",
   "metadata": {},
   "outputs": [
    {
     "name": "stdout",
     "output_type": "stream",
     "text": [
      "[(0, [('care', 0.05837049), ('feeling', 0.057323437), ('feel', 0.03854421), ('mother', 0.032222368), ('boundary', 0.027504392), ('like', 0.026680881), ('emotional', 0.025794774), ('understand', 0.022895463), ('know', 0.02210343), ('youre', 0.020946162)]), (1, [('decision', 0.052159026), ('choice', 0.04089318), ('world', 0.038500015), ('regarding', 0.03616007), ('may', 0.034464713), ('one', 0.033562377), ('think', 0.033114806), ('instead', 0.030507239), ('another', 0.028623346), ('mean', 0.026929257)]), (2, [('anxiety', 0.29123598), ('depression', 0.15272065), ('symptom', 0.11615632), ('help', 0.056458607), ('experience', 0.029425899), ('news', 0.027899757), ('helpful', 0.025958207), ('body', 0.018722296), ('addressing', 0.018338911), ('tool', 0.017594231)]), (3, [('mind', 0.1255701), ('opinion', 0.10782363), ('sleep', 0.10474344), ('topic', 0.08225291), ('body', 0.08043901), ('attack', 0.07984277), ('panic', 0.0780969), ('keeping', 0.07656205), ('piece', 0.05419244), ('calm', 0.03912698)]), (4, [('client', 0.20709689), ('counseling', 0.19307928), ('counselor', 0.16607726), ('session', 0.07747766), ('allows', 0.050465807), ('gain', 0.041147847), ('effective', 0.038958956), ('usually', 0.03325388), ('insight', 0.02682767), ('need', 0.021706834)]), (5, [('issue', 0.080061786), ('work', 0.06019011), ('first', 0.05031158), ('therapist', 0.047942508), ('many', 0.042477522), ('take', 0.031757824), ('process', 0.031200094), ('find', 0.027247267), ('time', 0.024650952), ('youve', 0.020903658)]), (6, [('result', 0.0941941), ('dealing', 0.075985864), ('wife', 0.07187106), ('view', 0.06699808), ('period', 0.056418605), ('drinking', 0.052617356), ('possible', 0.043502025), ('possibility', 0.042772107), ('met', 0.04034984), ('doesnt', 0.03421634)]), (7, [('health', 0.09346926), ('mental', 0.089456856), ('professional', 0.045925077), ('thing', 0.03805418), ('local', 0.033975463), ('treatment', 0.033970527), ('able', 0.033791896), ('also', 0.033741355), ('may', 0.031224795), ('help', 0.026566861)]), (8, [('reading', 0.0009999999), ('pay', 0.0009999999), ('system', 0.0009999999), ('similar', 0.0009999999), ('setting', 0.0009999999), ('regular', 0.0009999999), ('courage', 0.0009999999), ('pill', 0.0009999999), ('generally', 0.0009999999), ('interest', 0.0009999999)]), (9, [('id', 0.09853563), ('circumstance', 0.075812034), ('felt', 0.07279025), ('suicide', 0.07037241), ('call', 0.06980231), ('worse', 0.05800555), ('typically', 0.056984384), ('use', 0.04527796), ('interested', 0.042838495), ('harm', 0.041310567)]), (10, [('ask', 0.084891275), ('boyfriend', 0.07318591), ('listen', 0.06469148), ('would', 0.06363878), ('friend', 0.06359592), ('talk', 0.056654993), ('question', 0.04755893), ('want', 0.031502385), ('able', 0.029774114), ('willing', 0.02701531)]), (11, [('therapist', 0.11532064), ('may', 0.06586003), ('would', 0.061786126), ('working', 0.043953452), ('therapy', 0.037327003), ('also', 0.033885796), ('helpful', 0.02859317), ('encourage', 0.026036263), ('work', 0.023018887), ('care', 0.02279932)]), (12, [('know', 0.040123787), ('tell', 0.036210153), ('dont', 0.03437413), ('want', 0.033880115), ('feel', 0.025113335), ('youre', 0.020399388), ('need', 0.020123815), ('reason', 0.016687185), ('say', 0.01609172), ('get', 0.016028054)]), (13, [('feeling', 0.09194067), ('part', 0.081780165), ('space', 0.061754886), ('painful', 0.055246826), ('process', 0.053790037), ('speaking', 0.04790191), ('word', 0.041970413), ('strength', 0.04115515), ('experience', 0.040787525), ('overwhelmed', 0.03357536)]), (14, [('thought', 0.26065055), ('negative', 0.09810721), ('pattern', 0.07255526), ('positive', 0.05899823), ('thinking', 0.0420915), ('attention', 0.028613918), ('pay', 0.028436948), ('focus', 0.028010204), ('feeling', 0.02757263), ('lead', 0.022386564)]), (15, [('reading', 0.0009999999), ('pay', 0.0009999999), ('system', 0.0009999999), ('similar', 0.0009999999), ('setting', 0.0009999999), ('regular', 0.0009999999), ('courage', 0.0009999999), ('pill', 0.0009999999), ('generally', 0.0009999999), ('interest', 0.0009999999)]), (16, [('deep', 0.06867198), ('angry', 0.049920335), ('practice', 0.039156705), ('breathing', 0.036275752), ('stage', 0.03532747), ('trigger', 0.034370545), ('instead', 0.032297526), ('becoming', 0.030673591), ('simply', 0.028697161), ('take', 0.024043223)]), (17, [('thing', 0.0010177224), ('love', 0.0010172256), ('cry', 0.0010155138), ('youve', 0.0010146634), ('forward', 0.0010118351), ('im', 0.0010117269), ('want', 0.0010116637), ('know', 0.0010114233), ('say', 0.001011233), ('maybe', 0.0010111744)]), (18, [('happiness', 0.0365304), ('good', 0.029400263), ('need', 0.025984576), ('ill', 0.021301854), ('voice', 0.01835663), ('key', 0.017478144), ('create', 0.017252266), ('happy', 0.017177474), ('thats', 0.016657993), ('dont', 0.016465832)]), (19, [('emotion', 0.13189992), ('feel', 0.09388366), ('cry', 0.06262163), ('worry', 0.049191196), ('control', 0.042465404), ('anxious', 0.041524265), ('put', 0.040221967), ('away', 0.040168304), ('normal', 0.038331166), ('effort', 0.033572823)]), (20, [('day', 0.13082866), ('thing', 0.06486927), ('still', 0.056313273), ('making', 0.04294586), ('work', 0.035111196), ('write', 0.033681393), ('find', 0.033562746), ('committed', 0.031305816), ('leave', 0.031214774), ('longer', 0.029243985)]), (21, [('address', 0.26250187), ('term', 0.11950598), ('belief', 0.10666302), ('issue', 0.099555545), ('help', 0.07057909), ('childhood', 0.050688215), ('professional', 0.047553588), ('never', 0.043495946), ('next', 0.040356457), ('desire', 0.039144397)]), (22, [('feeling', 0.06496133), ('person', 0.057818074), ('better', 0.049575705), ('feel', 0.04891158), ('find', 0.03935937), ('cause', 0.030122899), ('understanding', 0.025010306), ('alone', 0.024553696), ('based', 0.020074418), ('value', 0.018480174)]), (23, [('end', 0.043529324), ('next', 0.036957134), ('contact', 0.036474653), ('allow', 0.035594072), ('rule', 0.0354166), ('good', 0.035228945), ('specific', 0.03472017), ('reason', 0.03433588), ('area', 0.029285682), ('adult', 0.028440638)]), (24, [('past', 0.13810833), ('present', 0.10305354), ('benefit', 0.06896365), ('move', 0.06511112), ('moment', 0.059883427), ('forward', 0.04908055), ('relationship', 0.033499382), ('moving', 0.030735048), ('great', 0.030617503), ('without', 0.026863832)]), (25, [('relationship', 0.09126334), ('partner', 0.044552088), ('couple', 0.030318031), ('husband', 0.027475456), ('sex', 0.021415345), ('sexual', 0.020852063), ('one', 0.01849359), ('marriage', 0.017650057), ('need', 0.017120382), ('way', 0.015776541)]), (26, [('person', 0.06893134), ('area', 0.065359816), ('similar', 0.0627857), ('small', 0.049950574), ('group', 0.048842125), ('life', 0.045331463), ('someone', 0.044353347), ('human', 0.04210804), ('handle', 0.038190234), ('people', 0.030383365)]), (27, [('support', 0.068236), ('abuse', 0.047781184), ('seek', 0.044545542), ('grief', 0.043890785), ('safety', 0.034040924), ('situation', 0.033323288), ('abusive', 0.032643836), ('plan', 0.032403022), ('whole', 0.03196112), ('could', 0.02893069)]), (28, [('something', 0.094221056), ('thing', 0.08915244), ('okay', 0.053419556), ('could', 0.044726085), ('happen', 0.03485283), ('really', 0.034287054), ('remind', 0.03106398), ('power', 0.029729787), ('actually', 0.027883852), ('like', 0.022501836)]), (29, [('reading', 0.0009999999), ('pay', 0.0009999999), ('system', 0.0009999999), ('similar', 0.0009999999), ('setting', 0.0009999999), ('regular', 0.0009999999), ('courage', 0.0009999999), ('pill', 0.0009999999), ('generally', 0.0009999999), ('interest', 0.0009999999)]), (30, [('time', 0.105879016), ('behavior', 0.07814129), ('one', 0.051683858), ('take', 0.049590167), ('way', 0.04091755), ('give', 0.03542899), ('change', 0.034438197), ('may', 0.02924264), ('life', 0.024517998), ('relationship', 0.02445872)]), (31, [('family', 0.09886117), ('may', 0.06083741), ('trauma', 0.049700536), ('event', 0.04591713), ('affect', 0.037595984), ('way', 0.030395528), ('experience', 0.028132675), ('consider', 0.028119057), ('would', 0.027219465), ('member', 0.02665562)]), (32, [('trust', 0.14234667), ('know', 0.044014454), ('wont', 0.042160764), ('ex', 0.03840454), ('big', 0.034190834), ('easy', 0.034049485), ('read', 0.033388704), ('evidence', 0.030507278), ('first', 0.029011797), ('help', 0.02653172)]), (33, [('may', 0.17791614), ('people', 0.09625121), ('question', 0.08030038), ('many', 0.06782156), ('thank', 0.056516476), ('hello', 0.05345188), ('landwehr', 0.046088), ('dbh', 0.04608797), ('ncc', 0.044749055), ('important', 0.040454403)]), (34, [('change', 0.13787046), ('make', 0.11504239), ('thing', 0.08254), ('dad', 0.06011127), ('get', 0.05753265), ('sometimes', 0.0445673), ('stop', 0.039917845), ('difference', 0.0331528), ('support', 0.03127601), ('could', 0.028358353)]), (35, [('able', 0.07022607), ('may', 0.055648237), ('develop', 0.04267478), ('sound', 0.037586685), ('called', 0.03155111), ('coping', 0.030716894), ('expectation', 0.02739095), ('primary', 0.027352953), ('way', 0.026791334), ('problem', 0.026791101)]), (36, [('time', 0.03150431), ('also', 0.030643595), ('feel', 0.030173507), ('consider', 0.028962985), ('example', 0.025645351), ('would', 0.025509259), ('important', 0.024820706), ('may', 0.023719333), ('discussion', 0.023639372), ('could', 0.023545638)]), (37, [('therapist', 0.12150033), ('therapy', 0.11849017), ('feel', 0.09397615), ('goal', 0.06851197), ('counselor', 0.046097867), ('comfortable', 0.041742828), ('session', 0.036679097), ('help', 0.029867401), ('treatment', 0.026101543), ('healing', 0.025351744)]), (38, [('reading', 0.0009999999), ('pay', 0.0009999999), ('system', 0.0009999999), ('similar', 0.0009999999), ('setting', 0.0009999999), ('regular', 0.0009999999), ('courage', 0.0009999999), ('pill', 0.0009999999), ('generally', 0.0009999999), ('interest', 0.0009999999)]), (39, [('need', 0.0010133609), ('think', 0.0010099432), ('he', 0.0010082314), ('anxiety', 0.0010081476), ('brain', 0.0010079541), ('know', 0.001007209), ('something', 0.0010052356), ('would', 0.0010050113), ('head', 0.0010045368), ('issue', 0.0010044074)]), (40, [('thing', 0.029192535), ('nervous', 0.028137943), ('blaming', 0.02308882), ('therapist', 0.02130809), ('hard', 0.021272635), ('little', 0.020902969), ('soon', 0.020306049), ('begin', 0.020282593), ('tend', 0.019335726), ('help', 0.019114936)]), (41, [('reading', 0.0009999999), ('pay', 0.0009999999), ('system', 0.0009999999), ('similar', 0.0009999999), ('setting', 0.0009999999), ('regular', 0.0009999999), ('courage', 0.0009999999), ('pill', 0.0009999999), ('generally', 0.0009999999), ('interest', 0.0009999999)]), (42, [('couple', 0.001009643), ('marriage', 0.0010085581), ('relationship', 0.0010074086), ('open', 0.0010070505), ('year', 0.0010062833), ('little', 0.0010060545), ('suggestion', 0.0010060468), ('step', 0.0010056498), ('try', 0.001005293), ('together', 0.0010050453)]), (43, [('counseling', 0.12834558), ('help', 0.054046016), ('question', 0.051494807), ('lot', 0.04925482), ('looking', 0.043149196), ('many', 0.040703), ('answer', 0.039022822), ('im', 0.038533397), ('seems', 0.03413292), ('service', 0.031732533)]), (44, [('take', 0.046522878), ('problem', 0.0426987), ('difficult', 0.037662886), ('need', 0.03696421), ('mistake', 0.032780763), ('medical', 0.028090049), ('must', 0.026927494), ('role', 0.026611084), ('addiction', 0.02659388), ('put', 0.026093323)]), (45, [('would', 0.074029945), ('like', 0.04148231), ('concern', 0.040006228), ('help', 0.03902425), ('get', 0.036323927), ('stress', 0.033223517), ('physical', 0.03104003), ('well', 0.029939305), ('getting', 0.028968627), ('however', 0.025291372)]), (46, [('within', 0.13936305), ('energy', 0.066553384), ('related', 0.05961084), ('idea', 0.05779766), ('room', 0.049345605), ('response', 0.048604026), ('become', 0.046793293), ('awareness', 0.045393683), ('around', 0.042981677), ('hopefully', 0.04084205)]), (47, [('sound', 0.15363872), ('like', 0.10283373), ('situation', 0.095079266), ('though', 0.069289416), ('anyone', 0.05073255), ('man', 0.044820216), ('telling', 0.036505945), ('hand', 0.035470277), ('true', 0.033852275), ('tough', 0.028674563)]), (48, [('daughter', 0.17680946), ('current', 0.12657785), ('action', 0.11922491), ('factor', 0.11785269), ('story', 0.07152805), ('including', 0.065035805), ('possible', 0.046486694), ('doubt', 0.04616237), ('context', 0.04322994), ('baby', 0.03332534)]), (49, [('child', 0.2829645), ('parent', 0.108736224), ('risk', 0.038794246), ('reflect', 0.03674495), ('son', 0.032890867), ('learning', 0.03116569), ('trusting', 0.026705151), ('likely', 0.026061986), ('best', 0.023042696), ('available', 0.021372331)]), (50, [('parent', 0.19772682), ('mom', 0.11185517), ('truly', 0.08905222), ('attention', 0.0707129), ('age', 0.046559844), ('psychological', 0.03992212), ('way', 0.038656242), ('emotional', 0.030595552), ('google', 0.029276675), ('help', 0.0226272)]), (51, [('youre', 0.07388757), ('act', 0.05049787), ('something', 0.048122905), ('rather', 0.04477542), ('come', 0.03628075), ('sometimes', 0.03519998), ('fight', 0.03264902), ('brain', 0.03110454), ('keep', 0.0296149), ('realize', 0.026407365)]), (52, [('live', 0.07921896), ('life', 0.07522163), ('living', 0.074225724), ('new', 0.06118436), ('resource', 0.061180282), ('learn', 0.058633916), ('manage', 0.0455351), ('daily', 0.04503325), ('help', 0.039113585), ('overcome', 0.03748105)]), (53, [('fear', 0.14670613), ('people', 0.05161446), ('system', 0.040304914), ('thing', 0.038541965), ('think', 0.028905228), ('acceptance', 0.025099466), ('good', 0.02259329), ('others', 0.021995306), ('wrote', 0.021212243), ('far', 0.020797368)]), (54, [('relationship', 0.16902047), ('partner', 0.066746704), ('question', 0.05236646), ('information', 0.043419115), ('person', 0.04298972), ('right', 0.037091106), ('listening', 0.036820624), ('way', 0.03325227), ('want', 0.030040262), ('necessarily', 0.02648607)]), (55, [('youll', 0.19120975), ('start', 0.17481714), ('self', 0.13819283), ('others', 0.10865622), ('add', 0.06477767), ('confidence', 0.061958235), ('possibly', 0.054245874), ('slow', 0.053710204), ('familiar', 0.034901615), ('prepared', 0.026666334)]), (56, [('try', 0.04677087), ('could', 0.04257351), ('something', 0.03566031), ('would', 0.032397017), ('happened', 0.03187773), ('look', 0.03058337), ('way', 0.027835805), ('idea', 0.027666086), ('asking', 0.02522791), ('andor', 0.02482157)]), (57, [('help', 0.04896527), ('feeling', 0.040690385), ('way', 0.02650001), ('wrong', 0.020379374), ('one', 0.018563747), ('time', 0.018474897), ('understand', 0.017005578), ('emotion', 0.015503593), ('feel', 0.015214553), ('may', 0.014550407)]), (58, [('kid', 0.08459619), ('woman', 0.0655965), ('lead', 0.051202375), ('afraid', 0.050108306), ('father', 0.03299037), ('life', 0.03142719), ('yet', 0.031079497), ('seen', 0.03067814), ('losing', 0.030128872), ('visit', 0.029354447)]), (59, [('people', 0.029913742), ('love', 0.02578168), ('someone', 0.023692315), ('dont', 0.020403106), ('want', 0.020270739), ('life', 0.017481055), ('way', 0.01689126), ('person', 0.015840264), ('feeling', 0.015400424), ('even', 0.014323027)])]\n"
     ]
    }
   ],
   "source": [
    "print(sorted_topics)"
   ]
  },
  {
   "cell_type": "code",
   "execution_count": 112,
   "id": "6cec3471",
   "metadata": {},
   "outputs": [],
   "source": [
    "lda.save(\"ttk_models/text_to_keywords.model\")"
   ]
  },
  {
   "cell_type": "code",
   "execution_count": 70,
   "id": "3346af06",
   "metadata": {},
   "outputs": [],
   "source": [
    "loaded_model = LdaModel.load('ttk_models/text_to_keywords.model')"
   ]
  },
  {
   "cell_type": "code",
   "execution_count": 2,
   "id": "130a107b",
   "metadata": {},
   "outputs": [],
   "source": [
    "from TextToKeywords import TextToKeywords"
   ]
  },
  {
   "cell_type": "code",
   "execution_count": 3,
   "id": "733ed796",
   "metadata": {},
   "outputs": [],
   "source": [
    "ttk = TextToKeywords()"
   ]
  },
  {
   "cell_type": "code",
   "execution_count": 4,
   "id": "aa0150f8",
   "metadata": {},
   "outputs": [
    {
     "name": "stdout",
     "output_type": "stream",
     "text": [
      "['people', 'love', 'someone', 'dont', 'want', 'life', 'way', 'person', 'feeling', 'even']\n"
     ]
    }
   ],
   "source": [
    "texto = 'Hi, Break ups can be very devastating and even traumatic. Recovering from one is a process that is unique for everyone person and will take time. It is important that you do not compare yourself to others. Each and every person will experience this grieving process differently. Here are a few tips to help with your recovery: 1. Make sure you surround yourself with people who love you and support you, friends and family. Even though you might feel like being alone, make an effort to be around them. 2. Although you might not feel like it, try to take care of yourself as much as possible: eat healthily, get regular sleep, & vigorous or gentle exercise (depending on your mood). The last thing that we want to do when we are physically sick (e.g. flu) is to take care of ourselves even thought that is what we need the most. But when we do get that chicken broth, sleep and vitamins we recover much faster and with less discomfort. That is exactly the same when it comes to emotional pain. Take care of yourself, keep yourself strong and healthy so you can recover faster. 3. As much as possible, put away reminders of the relationship. You might not be ready to throw things out, but try to put them away in a box in the storage or in a closet. And also block Social Media reminders. There is a lot of wisdom in the saying \"Out of Sight, Out of Mind.\" 4. Once the initial shock and intensity of the break up wear off, try out something new. In a relationship, we often forget and give up on things that we always wanted to do or to try. Now it is time to bring out that dusty bucket list and start trying something new. 5. If possible, change your scenery by going away on vacation with a friend or even by yourself. Changing your surroundings can really help you change your thoughts, mindset and forget your ex even if just for a few hours. Even a weekend getaway with a couple of girlfriends can do wonders. 6. In addition, to help you make sense of your past relationship and what went wrong, I would highly recommend seeing a professional counsellor or therapist.'\n",
    "ttk.predict(texto)"
   ]
  },
  {
   "cell_type": "code",
   "execution_count": null,
   "id": "6215eb72",
   "metadata": {},
   "outputs": [],
   "source": []
  }
 ],
 "metadata": {
  "kernelspec": {
   "display_name": "Python 3",
   "language": "python",
   "name": "python3"
  },
  "language_info": {
   "codemirror_mode": {
    "name": "ipython",
    "version": 3
   },
   "file_extension": ".py",
   "mimetype": "text/x-python",
   "name": "python",
   "nbconvert_exporter": "python",
   "pygments_lexer": "ipython3",
   "version": "3.8.8"
  }
 },
 "nbformat": 4,
 "nbformat_minor": 5
}
